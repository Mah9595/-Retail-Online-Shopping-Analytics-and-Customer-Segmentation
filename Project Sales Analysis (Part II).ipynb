{
 "cells": [
  {
   "cell_type": "markdown",
   "metadata": {},
   "source": [
    "# Introduction\n",
    "In Part I, we got our data in an Excel file containing two different sheets. What we did after was to read the two sheets and combined them and performed simple cleaning by removing the negative quantities. In this Part, we will visualize the data in the column. \n",
    "\n",
    "In this notebook, you will do the following:\n",
    "1. Import pandas and data vizualization libraries\n",
    "2. Visualize the column data\n",
    "    - univariate analysis\n",
    "    - bivariate analysis\n",
    "\n",
    "Useful readings on visualization: \n",
    "<a href = \"https://towardsdatascience.com/introduction-to-data-visualization-in-python-89a54c97fbed\">Introduction to Data Visualization in Python</a> (run it in Incognito Mode if you face the paywall)\n",
    "\n",
    "It's quite comprehensive and a useful guide for this Part if you're new to visualization.\n",
    "\n",
    "### Step 1: Import the following libraries\n",
    "- pandas\n",
    "- matplotlib.pyplot as plt\n",
    "- seaborn as sns\n",
    "- numpy as np"
   ]
  },
  {
   "cell_type": "code",
   "execution_count": 1,
   "metadata": {},
   "outputs": [],
   "source": [
    "# Step 1: Import the libraries\n",
    "import pandas as pd\n",
    "import matplotlib.pyplot as plt\n",
    "import seaborn as sns\n",
    "import numpy as np"
   ]
  },
  {
   "cell_type": "markdown",
   "metadata": {},
   "source": [
    "### Step 2: Read the CSV from Part I\n",
    "Time to read the CSV that you obtained from Part I. Here are the things you need to do:\n",
    "1. Parse dates as True\n",
    "2. Make the InvoiceDate column as the index of the DataFrame\n",
    "\n",
    "As a reminder, this is what you should see:\n",
    "![ExpectedPositiveDataFrame.png](https://uplevelsg.s3-ap-southeast-1.amazonaws.com/ProjectSalesAnalysis/ExpectedPositiveDataFrame.png)"
   ]
  },
  {
   "cell_type": "code",
   "execution_count": 2,
   "metadata": {
    "scrolled": false
   },
   "outputs": [
    {
     "name": "stderr",
     "output_type": "stream",
     "text": [
      "/Users/sm/opt/anaconda3/lib/python3.8/site-packages/IPython/core/interactiveshell.py:3071: DtypeWarning: Columns (1) have mixed types.Specify dtype option on import or set low_memory=False.\n",
      "  has_raised = await self.run_ast_nodes(code_ast.body, cell_name,\n"
     ]
    },
    {
     "data": {
      "text/html": [
       "<div>\n",
       "<style scoped>\n",
       "    .dataframe tbody tr th:only-of-type {\n",
       "        vertical-align: middle;\n",
       "    }\n",
       "\n",
       "    .dataframe tbody tr th {\n",
       "        vertical-align: top;\n",
       "    }\n",
       "\n",
       "    .dataframe thead th {\n",
       "        text-align: right;\n",
       "    }\n",
       "</style>\n",
       "<table border=\"1\" class=\"dataframe\">\n",
       "  <thead>\n",
       "    <tr style=\"text-align: right;\">\n",
       "      <th></th>\n",
       "      <th>Invoice</th>\n",
       "      <th>StockCode</th>\n",
       "      <th>Description</th>\n",
       "      <th>Quantity</th>\n",
       "      <th>Price</th>\n",
       "      <th>Customer ID</th>\n",
       "      <th>Country</th>\n",
       "    </tr>\n",
       "    <tr>\n",
       "      <th>InvoiceDate</th>\n",
       "      <th></th>\n",
       "      <th></th>\n",
       "      <th></th>\n",
       "      <th></th>\n",
       "      <th></th>\n",
       "      <th></th>\n",
       "      <th></th>\n",
       "    </tr>\n",
       "  </thead>\n",
       "  <tbody>\n",
       "    <tr>\n",
       "      <th>2009-12-01 07:45:00</th>\n",
       "      <td>489434</td>\n",
       "      <td>85048</td>\n",
       "      <td>15CM CHRISTMAS GLASS BALL 20 LIGHTS</td>\n",
       "      <td>12</td>\n",
       "      <td>6.95</td>\n",
       "      <td>13085.0</td>\n",
       "      <td>United Kingdom</td>\n",
       "    </tr>\n",
       "    <tr>\n",
       "      <th>2009-12-01 07:45:00</th>\n",
       "      <td>489434</td>\n",
       "      <td>79323P</td>\n",
       "      <td>PINK CHERRY LIGHTS</td>\n",
       "      <td>12</td>\n",
       "      <td>6.75</td>\n",
       "      <td>13085.0</td>\n",
       "      <td>United Kingdom</td>\n",
       "    </tr>\n",
       "    <tr>\n",
       "      <th>2009-12-01 07:45:00</th>\n",
       "      <td>489434</td>\n",
       "      <td>79323W</td>\n",
       "      <td>WHITE CHERRY LIGHTS</td>\n",
       "      <td>12</td>\n",
       "      <td>6.75</td>\n",
       "      <td>13085.0</td>\n",
       "      <td>United Kingdom</td>\n",
       "    </tr>\n",
       "    <tr>\n",
       "      <th>2009-12-01 07:45:00</th>\n",
       "      <td>489434</td>\n",
       "      <td>22041</td>\n",
       "      <td>RECORD FRAME 7\" SINGLE SIZE</td>\n",
       "      <td>48</td>\n",
       "      <td>2.10</td>\n",
       "      <td>13085.0</td>\n",
       "      <td>United Kingdom</td>\n",
       "    </tr>\n",
       "    <tr>\n",
       "      <th>2009-12-01 07:45:00</th>\n",
       "      <td>489434</td>\n",
       "      <td>21232</td>\n",
       "      <td>STRAWBERRY CERAMIC TRINKET BOX</td>\n",
       "      <td>24</td>\n",
       "      <td>1.25</td>\n",
       "      <td>13085.0</td>\n",
       "      <td>United Kingdom</td>\n",
       "    </tr>\n",
       "    <tr>\n",
       "      <th>...</th>\n",
       "      <td>...</td>\n",
       "      <td>...</td>\n",
       "      <td>...</td>\n",
       "      <td>...</td>\n",
       "      <td>...</td>\n",
       "      <td>...</td>\n",
       "      <td>...</td>\n",
       "    </tr>\n",
       "    <tr>\n",
       "      <th>2011-12-09 12:50:00</th>\n",
       "      <td>581587</td>\n",
       "      <td>22899</td>\n",
       "      <td>CHILDREN'S APRON DOLLY GIRL</td>\n",
       "      <td>6</td>\n",
       "      <td>2.10</td>\n",
       "      <td>12680.0</td>\n",
       "      <td>France</td>\n",
       "    </tr>\n",
       "    <tr>\n",
       "      <th>2011-12-09 12:50:00</th>\n",
       "      <td>581587</td>\n",
       "      <td>23254</td>\n",
       "      <td>CHILDRENS CUTLERY DOLLY GIRL</td>\n",
       "      <td>4</td>\n",
       "      <td>4.15</td>\n",
       "      <td>12680.0</td>\n",
       "      <td>France</td>\n",
       "    </tr>\n",
       "    <tr>\n",
       "      <th>2011-12-09 12:50:00</th>\n",
       "      <td>581587</td>\n",
       "      <td>23255</td>\n",
       "      <td>CHILDRENS CUTLERY CIRCUS PARADE</td>\n",
       "      <td>4</td>\n",
       "      <td>4.15</td>\n",
       "      <td>12680.0</td>\n",
       "      <td>France</td>\n",
       "    </tr>\n",
       "    <tr>\n",
       "      <th>2011-12-09 12:50:00</th>\n",
       "      <td>581587</td>\n",
       "      <td>22138</td>\n",
       "      <td>BAKING SET 9 PIECE RETROSPOT</td>\n",
       "      <td>3</td>\n",
       "      <td>4.95</td>\n",
       "      <td>12680.0</td>\n",
       "      <td>France</td>\n",
       "    </tr>\n",
       "    <tr>\n",
       "      <th>2011-12-09 12:50:00</th>\n",
       "      <td>581587</td>\n",
       "      <td>POST</td>\n",
       "      <td>POSTAGE</td>\n",
       "      <td>1</td>\n",
       "      <td>18.00</td>\n",
       "      <td>12680.0</td>\n",
       "      <td>France</td>\n",
       "    </tr>\n",
       "  </tbody>\n",
       "</table>\n",
       "<p>1041671 rows × 7 columns</p>\n",
       "</div>"
      ],
      "text/plain": [
       "                    Invoice StockCode                          Description  \\\n",
       "InvoiceDate                                                                  \n",
       "2009-12-01 07:45:00  489434     85048  15CM CHRISTMAS GLASS BALL 20 LIGHTS   \n",
       "2009-12-01 07:45:00  489434    79323P                   PINK CHERRY LIGHTS   \n",
       "2009-12-01 07:45:00  489434    79323W                  WHITE CHERRY LIGHTS   \n",
       "2009-12-01 07:45:00  489434     22041         RECORD FRAME 7\" SINGLE SIZE    \n",
       "2009-12-01 07:45:00  489434     21232       STRAWBERRY CERAMIC TRINKET BOX   \n",
       "...                     ...       ...                                  ...   \n",
       "2011-12-09 12:50:00  581587     22899         CHILDREN'S APRON DOLLY GIRL    \n",
       "2011-12-09 12:50:00  581587     23254        CHILDRENS CUTLERY DOLLY GIRL    \n",
       "2011-12-09 12:50:00  581587     23255      CHILDRENS CUTLERY CIRCUS PARADE   \n",
       "2011-12-09 12:50:00  581587     22138        BAKING SET 9 PIECE RETROSPOT    \n",
       "2011-12-09 12:50:00  581587      POST                              POSTAGE   \n",
       "\n",
       "                     Quantity  Price  Customer ID         Country  \n",
       "InvoiceDate                                                        \n",
       "2009-12-01 07:45:00        12   6.95      13085.0  United Kingdom  \n",
       "2009-12-01 07:45:00        12   6.75      13085.0  United Kingdom  \n",
       "2009-12-01 07:45:00        12   6.75      13085.0  United Kingdom  \n",
       "2009-12-01 07:45:00        48   2.10      13085.0  United Kingdom  \n",
       "2009-12-01 07:45:00        24   1.25      13085.0  United Kingdom  \n",
       "...                       ...    ...          ...             ...  \n",
       "2011-12-09 12:50:00         6   2.10      12680.0          France  \n",
       "2011-12-09 12:50:00         4   4.15      12680.0          France  \n",
       "2011-12-09 12:50:00         4   4.15      12680.0          France  \n",
       "2011-12-09 12:50:00         3   4.95      12680.0          France  \n",
       "2011-12-09 12:50:00         1  18.00      12680.0          France  \n",
       "\n",
       "[1041671 rows x 7 columns]"
      ]
     },
     "execution_count": 2,
     "metadata": {},
     "output_type": "execute_result"
    }
   ],
   "source": [
    "# Step 2: Read your CSV from Part I\n",
    "df = pd.read_csv('/Users/sm/Desktop/CourseMaterials/Project Sales Analysis v0.1.csv', parse_dates=True, index_col='InvoiceDate')\n",
    "df"
   ]
  },
  {
   "cell_type": "markdown",
   "metadata": {},
   "source": [
    "## Univariate analysis (UA)\n",
    "In this section, we will be examining the data in each column either by summarizing the information, getting the frequency, and visualizing it using graphs. Univariate analysis (UA) refers to looking at a single variable/column's values, and performing some kind of analysis on it. \n",
    "\n",
    "This analysis helps when you're presenting to stakeholders, to help them understand the data better. \n",
    "\n",
    "What kind of analysis will be using? For continuous numerical values, we will be using <strong>histograms</strong>.\n",
    "\n",
    "### Step 3: Create a new column named \"Revenue\"\n",
    "But before we plot numerical features using histograms, let's create a new column named \"Revenue\", where it is \"Price\" multiplied by \"Quantity\".\n",
    "\n",
    "<strong>Hint: Google \"multiply two columns and then create new column with values\"</strong>"
   ]
  },
  {
   "cell_type": "code",
   "execution_count": 3,
   "metadata": {},
   "outputs": [
    {
     "data": {
      "text/html": [
       "<div>\n",
       "<style scoped>\n",
       "    .dataframe tbody tr th:only-of-type {\n",
       "        vertical-align: middle;\n",
       "    }\n",
       "\n",
       "    .dataframe tbody tr th {\n",
       "        vertical-align: top;\n",
       "    }\n",
       "\n",
       "    .dataframe thead th {\n",
       "        text-align: right;\n",
       "    }\n",
       "</style>\n",
       "<table border=\"1\" class=\"dataframe\">\n",
       "  <thead>\n",
       "    <tr style=\"text-align: right;\">\n",
       "      <th></th>\n",
       "      <th>Invoice</th>\n",
       "      <th>StockCode</th>\n",
       "      <th>Description</th>\n",
       "      <th>Quantity</th>\n",
       "      <th>Price</th>\n",
       "      <th>Customer ID</th>\n",
       "      <th>Country</th>\n",
       "      <th>Revenue</th>\n",
       "    </tr>\n",
       "    <tr>\n",
       "      <th>InvoiceDate</th>\n",
       "      <th></th>\n",
       "      <th></th>\n",
       "      <th></th>\n",
       "      <th></th>\n",
       "      <th></th>\n",
       "      <th></th>\n",
       "      <th></th>\n",
       "      <th></th>\n",
       "    </tr>\n",
       "  </thead>\n",
       "  <tbody>\n",
       "    <tr>\n",
       "      <th>2009-12-01 07:45:00</th>\n",
       "      <td>489434</td>\n",
       "      <td>85048</td>\n",
       "      <td>15CM CHRISTMAS GLASS BALL 20 LIGHTS</td>\n",
       "      <td>12</td>\n",
       "      <td>6.95</td>\n",
       "      <td>13085.0</td>\n",
       "      <td>United Kingdom</td>\n",
       "      <td>83.40</td>\n",
       "    </tr>\n",
       "    <tr>\n",
       "      <th>2009-12-01 07:45:00</th>\n",
       "      <td>489434</td>\n",
       "      <td>79323P</td>\n",
       "      <td>PINK CHERRY LIGHTS</td>\n",
       "      <td>12</td>\n",
       "      <td>6.75</td>\n",
       "      <td>13085.0</td>\n",
       "      <td>United Kingdom</td>\n",
       "      <td>81.00</td>\n",
       "    </tr>\n",
       "    <tr>\n",
       "      <th>2009-12-01 07:45:00</th>\n",
       "      <td>489434</td>\n",
       "      <td>79323W</td>\n",
       "      <td>WHITE CHERRY LIGHTS</td>\n",
       "      <td>12</td>\n",
       "      <td>6.75</td>\n",
       "      <td>13085.0</td>\n",
       "      <td>United Kingdom</td>\n",
       "      <td>81.00</td>\n",
       "    </tr>\n",
       "    <tr>\n",
       "      <th>2009-12-01 07:45:00</th>\n",
       "      <td>489434</td>\n",
       "      <td>22041</td>\n",
       "      <td>RECORD FRAME 7\" SINGLE SIZE</td>\n",
       "      <td>48</td>\n",
       "      <td>2.10</td>\n",
       "      <td>13085.0</td>\n",
       "      <td>United Kingdom</td>\n",
       "      <td>100.80</td>\n",
       "    </tr>\n",
       "    <tr>\n",
       "      <th>2009-12-01 07:45:00</th>\n",
       "      <td>489434</td>\n",
       "      <td>21232</td>\n",
       "      <td>STRAWBERRY CERAMIC TRINKET BOX</td>\n",
       "      <td>24</td>\n",
       "      <td>1.25</td>\n",
       "      <td>13085.0</td>\n",
       "      <td>United Kingdom</td>\n",
       "      <td>30.00</td>\n",
       "    </tr>\n",
       "    <tr>\n",
       "      <th>...</th>\n",
       "      <td>...</td>\n",
       "      <td>...</td>\n",
       "      <td>...</td>\n",
       "      <td>...</td>\n",
       "      <td>...</td>\n",
       "      <td>...</td>\n",
       "      <td>...</td>\n",
       "      <td>...</td>\n",
       "    </tr>\n",
       "    <tr>\n",
       "      <th>2011-12-09 12:50:00</th>\n",
       "      <td>581587</td>\n",
       "      <td>22899</td>\n",
       "      <td>CHILDREN'S APRON DOLLY GIRL</td>\n",
       "      <td>6</td>\n",
       "      <td>2.10</td>\n",
       "      <td>12680.0</td>\n",
       "      <td>France</td>\n",
       "      <td>12.60</td>\n",
       "    </tr>\n",
       "    <tr>\n",
       "      <th>2011-12-09 12:50:00</th>\n",
       "      <td>581587</td>\n",
       "      <td>23254</td>\n",
       "      <td>CHILDRENS CUTLERY DOLLY GIRL</td>\n",
       "      <td>4</td>\n",
       "      <td>4.15</td>\n",
       "      <td>12680.0</td>\n",
       "      <td>France</td>\n",
       "      <td>16.60</td>\n",
       "    </tr>\n",
       "    <tr>\n",
       "      <th>2011-12-09 12:50:00</th>\n",
       "      <td>581587</td>\n",
       "      <td>23255</td>\n",
       "      <td>CHILDRENS CUTLERY CIRCUS PARADE</td>\n",
       "      <td>4</td>\n",
       "      <td>4.15</td>\n",
       "      <td>12680.0</td>\n",
       "      <td>France</td>\n",
       "      <td>16.60</td>\n",
       "    </tr>\n",
       "    <tr>\n",
       "      <th>2011-12-09 12:50:00</th>\n",
       "      <td>581587</td>\n",
       "      <td>22138</td>\n",
       "      <td>BAKING SET 9 PIECE RETROSPOT</td>\n",
       "      <td>3</td>\n",
       "      <td>4.95</td>\n",
       "      <td>12680.0</td>\n",
       "      <td>France</td>\n",
       "      <td>14.85</td>\n",
       "    </tr>\n",
       "    <tr>\n",
       "      <th>2011-12-09 12:50:00</th>\n",
       "      <td>581587</td>\n",
       "      <td>POST</td>\n",
       "      <td>POSTAGE</td>\n",
       "      <td>1</td>\n",
       "      <td>18.00</td>\n",
       "      <td>12680.0</td>\n",
       "      <td>France</td>\n",
       "      <td>18.00</td>\n",
       "    </tr>\n",
       "  </tbody>\n",
       "</table>\n",
       "<p>1041671 rows × 8 columns</p>\n",
       "</div>"
      ],
      "text/plain": [
       "                    Invoice StockCode                          Description  \\\n",
       "InvoiceDate                                                                  \n",
       "2009-12-01 07:45:00  489434     85048  15CM CHRISTMAS GLASS BALL 20 LIGHTS   \n",
       "2009-12-01 07:45:00  489434    79323P                   PINK CHERRY LIGHTS   \n",
       "2009-12-01 07:45:00  489434    79323W                  WHITE CHERRY LIGHTS   \n",
       "2009-12-01 07:45:00  489434     22041         RECORD FRAME 7\" SINGLE SIZE    \n",
       "2009-12-01 07:45:00  489434     21232       STRAWBERRY CERAMIC TRINKET BOX   \n",
       "...                     ...       ...                                  ...   \n",
       "2011-12-09 12:50:00  581587     22899         CHILDREN'S APRON DOLLY GIRL    \n",
       "2011-12-09 12:50:00  581587     23254        CHILDRENS CUTLERY DOLLY GIRL    \n",
       "2011-12-09 12:50:00  581587     23255      CHILDRENS CUTLERY CIRCUS PARADE   \n",
       "2011-12-09 12:50:00  581587     22138        BAKING SET 9 PIECE RETROSPOT    \n",
       "2011-12-09 12:50:00  581587      POST                              POSTAGE   \n",
       "\n",
       "                     Quantity  Price  Customer ID         Country  Revenue  \n",
       "InvoiceDate                                                                 \n",
       "2009-12-01 07:45:00        12   6.95      13085.0  United Kingdom    83.40  \n",
       "2009-12-01 07:45:00        12   6.75      13085.0  United Kingdom    81.00  \n",
       "2009-12-01 07:45:00        12   6.75      13085.0  United Kingdom    81.00  \n",
       "2009-12-01 07:45:00        48   2.10      13085.0  United Kingdom   100.80  \n",
       "2009-12-01 07:45:00        24   1.25      13085.0  United Kingdom    30.00  \n",
       "...                       ...    ...          ...             ...      ...  \n",
       "2011-12-09 12:50:00         6   2.10      12680.0          France    12.60  \n",
       "2011-12-09 12:50:00         4   4.15      12680.0          France    16.60  \n",
       "2011-12-09 12:50:00         4   4.15      12680.0          France    16.60  \n",
       "2011-12-09 12:50:00         3   4.95      12680.0          France    14.85  \n",
       "2011-12-09 12:50:00         1  18.00      12680.0          France    18.00  \n",
       "\n",
       "[1041671 rows x 8 columns]"
      ]
     },
     "execution_count": 3,
     "metadata": {},
     "output_type": "execute_result"
    }
   ],
   "source": [
    "# Step 3: Create a new column named \"Revenue\"\n",
    "df['Revenue']=df['Price']*df['Quantity']\n",
    "df"
   ]
  },
  {
   "cell_type": "markdown",
   "metadata": {},
   "source": [
    "### Step 4: Perform UA on 'Quantity' with a histogram\n",
    "We plot a histogram to see the distribution of Quantity. "
   ]
  },
  {
   "cell_type": "code",
   "execution_count": 4,
   "metadata": {
    "scrolled": false
   },
   "outputs": [
    {
     "data": {
      "image/png": "[encoded data removed]",
      "text/plain": [
       "<Figure size 432x288 with 1 Axes>"
      ]
     },
     "metadata": {
      "needs_background": "light"
     },
     "output_type": "display_data"
    }
   ],
   "source": [
    "# Step 4: Plot histogram using 'Quantity'\n",
    "plt.hist(df['Quantity'])\n",
    "plt.show()"
   ]
  },
  {
   "cell_type": "markdown",
   "metadata": {},
   "source": [
    "### [Optional] Step 5: Perform UA on log-transformed 'Quantity' with a histogram\n",
    "That's a right-skewed distribution right there. Let's practice with transforming the values in the Quantity column using numpy's method, and then plotting again. \n",
    "\n",
    "We transform right-skewed to a normal distribution because if you're using linear regression, you need to ensure that your independent variables are normally distributed.\n",
    "\n",
    "We won't be performing regression analysis in this project series, but it's good transformation practice. \n",
    "\n",
    "<strong>Hint: Google \"log transformation pandas column\"</strong>"
   ]
  },
  {
   "cell_type": "code",
   "execution_count": 5,
   "metadata": {},
   "outputs": [
    {
     "data": {
      "image/png": "[encoded data removed]",
      "text/plain": [
       "<Figure size 432x288 with 1 Axes>"
      ]
     },
     "metadata": {
      "needs_background": "light"
     },
     "output_type": "display_data"
    }
   ],
   "source": [
    "# Step 5: Plot the log trainsformed version of Quantity\n",
    "LogQty=np.log(df['Quantity'])\n",
    "plt.hist(LogQty)\n",
    "plt.show()"
   ]
  },
  {
   "cell_type": "markdown",
   "metadata": {},
   "source": [
    "### Step 6: Plot UA on 'Price' with a histogram\n",
    "Now that we're done with 'Quantity', let's take a look at 'Price'. \n",
    "\n",
    "Same thing - use a histogram to visualize the distribution of the 'Price' of the items in your dataset. "
   ]
  },
  {
   "cell_type": "code",
   "execution_count": 6,
   "metadata": {},
   "outputs": [
    {
     "data": {
      "image/png": "[encoded data removed]",
      "text/plain": [
       "<Figure size 432x288 with 1 Axes>"
      ]
     },
     "metadata": {
      "needs_background": "light"
     },
     "output_type": "display_data"
    }
   ],
   "source": [
    "# Step 6: Plot a histogram using 'Price'\n",
    "plt.hist(df['Price'])\n",
    "plt.show()"
   ]
  },
  {
   "cell_type": "markdown",
   "metadata": {},
   "source": [
    "### [Optional] Step 7: Perform UA on log-transformed 'Price' with a histogram\n",
    "Similarly, the skew is strong so let's see if a log transformation can help."
   ]
  },
  {
   "cell_type": "code",
   "execution_count": 7,
   "metadata": {},
   "outputs": [
    {
     "data": {
      "image/png": "[encoded data removed]",
      "text/plain": [
       "<Figure size 432x288 with 1 Axes>"
      ]
     },
     "metadata": {
      "needs_background": "light"
     },
     "output_type": "display_data"
    }
   ],
   "source": [
    "# Step 7: Plot log-transformed Price with a histogram\n",
    "LogPrice=np.log(df['Price'])\n",
    "plt.hist(LogPrice)\n",
    "plt.show()"
   ]
  },
  {
   "cell_type": "markdown",
   "metadata": {},
   "source": [
    "### Step 8: Plot UA on 'Revenue' with a histogram\n",
    "Last one - let's look at Revenue using histogram.\n",
    "\n",
    "Before you plot, imagine how the shape of the resulting histogram would look like, since you derived Revenue from the product of Price and Quantity. "
   ]
  },
  {
   "cell_type": "code",
   "execution_count": 8,
   "metadata": {},
   "outputs": [
    {
     "data": {
      "image/png": "[encoded data removed]",
      "text/plain": [
       "<Figure size 432x288 with 1 Axes>"
      ]
     },
     "metadata": {
      "needs_background": "light"
     },
     "output_type": "display_data"
    }
   ],
   "source": [
    "# Step 8: Plot a histogram using Revenue\n",
    "plt.hist(df['Revenue'])\n",
    "plt.show()"
   ]
  },
  {
   "cell_type": "markdown",
   "metadata": {},
   "source": [
    "### [Optional] Step 9: Perform UA on log-transformed 'Revenue' with a histogram\n",
    "Not gonna spoil what the results of Step 8 is, but let's do a log transformation of Revenue and plot it as well. "
   ]
  },
  {
   "cell_type": "code",
   "execution_count": 9,
   "metadata": {},
   "outputs": [
    {
     "data": {
      "image/png": "[encoded data removed]",
      "text/plain": [
       "<Figure size 432x288 with 1 Axes>"
      ]
     },
     "metadata": {
      "needs_background": "light"
     },
     "output_type": "display_data"
    }
   ],
   "source": [
    "# Step 9: Plot the log-transformed Revenue with a histogram\n",
    "LogRe=np.log(df['Price'])\n",
    "plt.hist(LogRe)\n",
    "plt.show()"
   ]
  },
  {
   "cell_type": "markdown",
   "metadata": {},
   "source": [
    "Let's do a quick recap - actually even after the transformation none of the three quantities looked normally distributed at all, i.e. no bell curve. \n",
    "\n",
    "### Step 10: Plot 'Quantity' over time\n",
    "Let's see how many items are purchased over the time period. \n",
    "\n",
    "For an easier plotting time, make sure you've turned the InvoiceDate into the index."
   ]
  },
  {
   "cell_type": "code",
   "execution_count": 33,
   "metadata": {},
   "outputs": [
    {
     "data": {
      "image/png": "[encoded data removed]",
      "text/plain": [
       "<Figure size 432x288 with 1 Axes>"
      ]
     },
     "metadata": {
      "needs_background": "light"
     },
     "output_type": "display_data"
    }
   ],
   "source": [
    "Gdf=df.groupby(df.index.floor('d'))['Revenue'].sum()\n",
    "sns.lineplot(x=Gdf.index, y=Gdf.values)\n",
    "plt.show()"
   ]
  },
  {
   "cell_type": "markdown",
   "metadata": {},
   "source": [
    "## Bivariate analysis (BA)\n",
    "Bivariate analysis is a form of analysis where you examine the relationship between two variables. This is usually executed with graphing techniques such as a scatterplot, or boxplots. \n",
    "\n",
    "Due to the nature of the dataset as is in its current form, there is a limited number of combinations for the two variables but they are nonetheless worth taking a look.  \n",
    "\n",
    "### Step 11: Plot a BA for Quantity against Price with a scatter plot\n",
    "We want to see if there's a relationship between 'Quantity' and 'Price' column. \n",
    "\n",
    "Before you plot it, you can try to hypothesize the relationship, e.g., is it a straight line, or whether it'll follow something similar to a power law distribution. "
   ]
  },
  {
   "cell_type": "code",
   "execution_count": 36,
   "metadata": {},
   "outputs": [
    {
     "data": {
      "image/png": "[encoded data removed]",
      "text/plain": [
       "<Figure size 432x288 with 1 Axes>"
      ]
     },
     "metadata": {
      "needs_background": "light"
     },
     "output_type": "display_data"
    }
   ],
   "source": [
    "# Step 11: Plot 'Quantity' against 'Price' with a scatter plot\n",
    "sns.scatterplot(x=df['Price'], y=df['Quantity'])\n",
    "plt.show()"
   ]
  },
  {
   "cell_type": "markdown",
   "metadata": {},
   "source": [
    "### [Optional] Step 12: Plot BA for log-transformed Quantity and log-transformed Price\n",
    "We won't spoil the results of Step 11 for you, but it seems like you'll need to transform the data to see if there's a more obvious relationship. \n",
    "\n",
    "Plot the log-transformed Quantity with log-transformed Price with a scatter plot, and assess if there is a more coherent relationship."
   ]
  },
  {
   "cell_type": "code",
   "execution_count": 37,
   "metadata": {
    "scrolled": true
   },
   "outputs": [
    {
     "data": {
      "image/png": "[encoded data removed]",
      "text/plain": [
       "<Figure size 432x288 with 1 Axes>"
      ]
     },
     "metadata": {
      "needs_background": "light"
     },
     "output_type": "display_data"
    }
   ],
   "source": [
    "# Step 12: Plot log-transformed Quantity against log-transformed Price\n",
    "log_price = np.log(df['Price'])\n",
    "log_qty = np.log(df['Quantity'])\n",
    "sns.scatterplot(x=log_price, y=log_qty)\n",
    "plt.show()"
   ]
  },
  {
   "cell_type": "markdown",
   "metadata": {},
   "source": [
    "### Step 13: Export the new DataFrame with 'Revenue' as a new CSV\n",
    "Since we've created a new column called 'Revenue' in Step 3, let's export this DataFrame as a new CSV.\n",
    "\n",
    "We will need 'Revenue' information for Parts III-V ahead."
   ]
  },
  {
   "cell_type": "code",
   "execution_count": 38,
   "metadata": {},
   "outputs": [],
   "source": [
    "# Step 13: Export the DataFrame with 'Revenue' as a CSV\n",
    "df.to_csv('Project Sales Analysis v0.2.csv')"
   ]
  },
  {
   "cell_type": "markdown",
   "metadata": {},
   "source": [
    "Now you're done! In the next part, we will pretend that we're an employee of the store and perform some store-relevant analysis."
   ]
  }
 ],
 "metadata": {
  "kernelspec": {
   "display_name": "Python 3",
   "language": "python",
   "name": "python3"
  },
  "language_info": {
   "codemirror_mode": {
    "name": "ipython",
    "version": 3
   },
   "file_extension": ".py",
   "mimetype": "text/x-python",
   "name": "python",
   "nbconvert_exporter": "python",
   "pygments_lexer": "ipython3",
   "version": "3.8.3"
  }
 },
 "nbformat": 4,
 "nbformat_minor": 4
}
